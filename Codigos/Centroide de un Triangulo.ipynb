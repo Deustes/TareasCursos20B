{
 "cells": [
  {
   "cell_type": "code",
   "execution_count": 2,
   "id": "e5164882",
   "metadata": {},
   "outputs": [
    {
     "name": "stdout",
     "output_type": "stream",
     "text": [
      "\n",
      "\n",
      "Bienvenido a la funcion que calcula el centroide de cualquier triangulo\n",
      "Ingrese la coordeanada x del primer vertice: 5\n",
      "Ingrese la coordenada y del primer vertice: 6\n",
      "Ingrese la coordeanada x del segundo vertice: 4\n",
      "Ingrese la coordenada y del segundo vertice: 6\n",
      "Ingrese la coordeanada x del tercer vertice: 8\n",
      "Ingrese la coordenada y del tercer vertice: 5\n",
      "El centroide del triangulo dado es el punto [5.66666667 5.66666667]\n"
     ]
    }
   ],
   "source": [
    "# -*- coding: utf-8 -*-\n",
    "import numpy as np \n",
    "\n",
    "class Triangulo:\n",
    "    \n",
    "    def __init__(self, vertice1, vertice2, vertice3):\n",
    "        self.vertice1 = vertice1\n",
    "        self.vertice2 = vertice2\n",
    "        self.vertice3 = vertice3\n",
    "    def centroide(self):\n",
    "        centroide = (self.vertice1 + self.vertice2 + self.vertice3) / 3\n",
    "        \n",
    "        return centroide\n",
    "    \n",
    "print(\"\\n\")\n",
    "print(\"Bienvenido a la funcion que calcula el centroide de cualquier triangulo\")\n",
    "    \n",
    "    \n",
    "x1 = eval(input('Ingrese la coordeanada x del primer vertice: '))\n",
    "y1 = eval(input('Ingrese la coordenada y del primer vertice: '))\n",
    "\n",
    "x2 = eval(input('Ingrese la coordeanada x del segundo vertice: '))\n",
    "y2 = eval(input('Ingrese la coordenada y del segundo vertice: '))\n",
    "\n",
    "x3 = eval(input('Ingrese la coordeanada x del tercer vertice: '))\n",
    "y3 = eval(input('Ingrese la coordenada y del tercer vertice: '))\n",
    "    \n",
    "vertice1 = np.array([x1,y1])\n",
    "vertice2 = np.array([x2,y2])\n",
    "vertice3 = np.array([x3,y3])\n",
    "\n",
    "if __name__ == '__main__':\n",
    "    triangulo = Triangulo(vertice1, vertice2, vertice3)\n",
    "    Centroide = triangulo.centroide()\n",
    "    print(f'El centroide del triangulo dado es el punto {Centroide}') \n",
    "    "
   ]
  },
  {
   "cell_type": "code",
   "execution_count": null,
   "id": "6248f176",
   "metadata": {},
   "outputs": [],
   "source": []
  }
 ],
 "metadata": {
  "kernelspec": {
   "display_name": "Python 3 (ipykernel)",
   "language": "python",
   "name": "python3"
  },
  "language_info": {
   "codemirror_mode": {
    "name": "ipython",
    "version": 3
   },
   "file_extension": ".py",
   "mimetype": "text/x-python",
   "name": "python",
   "nbconvert_exporter": "python",
   "pygments_lexer": "ipython3",
   "version": "3.9.7"
  }
 },
 "nbformat": 4,
 "nbformat_minor": 5
}
