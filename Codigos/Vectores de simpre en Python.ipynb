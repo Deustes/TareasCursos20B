{
 "cells": [
  {
   "cell_type": "markdown",
   "id": "30055534",
   "metadata": {},
   "source": [
    "# Ejercicio 6 de la Sección 1.2.7"
   ]
  },
  {
   "cell_type": "markdown",
   "id": "6f5b45bc",
   "metadata": {},
   "source": [
    "## Dados los vectores  $\\vec{a}$, $\\vec{b}$, $\\vec{c}$, $\\vec{d}$\n"
   ]
  },
  {
   "cell_type": "code",
   "execution_count": 1,
   "id": "5ae9fa44",
   "metadata": {},
   "outputs": [],
   "source": [
    "import sympy as sp\n",
    "import numpy as np"
   ]
  },
  {
   "cell_type": "code",
   "execution_count": 3,
   "id": "fbe09419",
   "metadata": {},
   "outputs": [],
   "source": [
    "a = np.array([1,2,3])\n",
    "b = np.array([4,5,6])\n",
    "c = np.array([3,2,1])\n",
    "d = np.array([6,5,4])"
   ]
  },
  {
   "cell_type": "markdown",
   "id": "c8f74f1a",
   "metadata": {},
   "source": [
    "## a) Encuentre: $\\vec{a}$ + $\\vec{b}$ + $\\vec{c}$ + $\\vec{d}$  ;  $\\vec{a}$ + $\\vec{b}$ - $\\vec{c}$ - $\\vec{d}$  ;  $\\vec{a}$ - $\\vec{b}$ + $\\vec{c}$ - $\\vec{d}$  ;  - $\\vec{a}$ + $\\vec{b}$ - $\\vec{c}$ + $\\vec{d}$"
   ]
  },
  {
   "cell_type": "code",
   "execution_count": 35,
   "id": "59c14b78",
   "metadata": {},
   "outputs": [
    {
     "name": "stdout",
     "output_type": "stream",
     "text": [
      "a + b + c + d: [14 14 14]\n",
      "a + b - c - d: [-4  0  4]\n",
      "a - b + c - d: [-6 -6 -6]\n",
      "a + b - c + d: [6 6 6]\n"
     ]
    }
   ],
   "source": [
    "c1 = a + b + c + d \n",
    "print(f'a + b + c + d: {c1}')\n",
    "c2 = a + b -c - d\n",
    "print(f'a + b - c - d: {c2}')\n",
    "c3 = a - b + c - d\n",
    "print(f'a - b + c - d: {c3}')\n",
    "c4 = -a + b - c + d\n",
    "print(f'a + b - c + d: {c4}')"
   ]
  },
  {
   "cell_type": "markdown",
   "id": "8a83907a",
   "metadata": {},
   "source": [
    "## b) El angulo entre los vectores $\\vec{a}$, $\\vec{b}$, $\\vec{c}$, $\\vec{d}$  y los vectores $\\hat{e}_{1}$,  $\\hat{e}_{2}$, $\\hat{e}_{3}$ (osea los cosenos directores)"
   ]
  },
  {
   "cell_type": "code",
   "execution_count": 32,
   "id": "70af4843",
   "metadata": {},
   "outputs": [
    {
     "name": "stdout",
     "output_type": "stream",
     "text": [
      "el angulo #1 del coseno director de a con e1 es: 74.498640433063 grados\n",
      "el angulo #2 del coseno director de a con e2 es: 57.688466762576155 grados\n",
      "el angulo #3 del coseno director de a con e3 es: 36.69922520048988 grados\n",
      "\n",
      "\n",
      "el angulo #1 del coseno director de b con e1 es: 62.88085722661892 grados\n",
      "el angulo #2 del coseno director de b con e2 es: 55.26351871874204 grados\n",
      "el angulo #3 del coseno director de b con e3 es: 46.86156238032894 grados\n",
      "\n",
      "\n",
      "el angulo #1 del coseno director de c con e1 es: 36.69922520048988 grados\n",
      "el angulo #2 del coseno director de c con e2 es: 57.688466762576155 grados\n",
      "el angulo #3 del coseno director de c con e3 es: 74.498640433063 grados\n",
      "\n",
      "\n",
      "el angulo #1 del coseno director de d con e1 es: 46.86156238032894 grados\n",
      "el angulo #2 del coseno director de d con e2 es: 55.26351871874204 grados\n",
      "el angulo #3 del coseno director de d con e3 es: 62.88085722661892 grados\n",
      "\n",
      "\n"
     ]
    }
   ],
   "source": [
    "#Cosenos directores del vector a\n",
    "cosdir1_e1_a = np.degrees(np.arccos(a[0]/np.linalg.norm(a)))\n",
    "print(f'el angulo #1 del coseno director de a con e1 es: {cosdir1_e1_a} grados')\n",
    "cosdir1_e2_a = np.degrees(np.arccos(a[1]/np.linalg.norm(a)))\n",
    "print(f'el angulo #2 del coseno director de a con e2 es: {cosdir1_e2_a} grados')\n",
    "cosdir1_e3_a = np.degrees(np.arccos(a[2]/np.linalg.norm(a)))\n",
    "print(f'el angulo #3 del coseno director de a con e3 es: {cosdir1_e3_a} grados')\n",
    "print('\\n')\n",
    "\n",
    "#Cosenos directores del vector b\n",
    "cosdir1_e1_b = np.degrees(np.arccos(b[0]/np.linalg.norm(b)))\n",
    "print(f'el angulo #1 del coseno director de b con e1 es: {cosdir1_e1_b} grados')\n",
    "cosdir1_e2_b = np.degrees(np.arccos(b[1]/np.linalg.norm(b)))\n",
    "print(f'el angulo #2 del coseno director de b con e2 es: {cosdir1_e2_b} grados')\n",
    "cosdir1_e3_b = np.degrees(np.arccos(b[2]/np.linalg.norm(b)))\n",
    "print(f'el angulo #3 del coseno director de b con e3 es: {cosdir1_e3_b} grados')\n",
    "print('\\n')\n",
    "\n",
    "#Cosenos directores del vector c\n",
    "cosdir1_e1_c = np.degrees(np.arccos(c[0]/np.linalg.norm(c)))\n",
    "print(f'el angulo #1 del coseno director de c con e1 es: {cosdir1_e1_c} grados')\n",
    "cosdir1_e2_c = np.degrees(np.arccos(c[1]/np.linalg.norm(c)))\n",
    "print(f'el angulo #2 del coseno director de c con e2 es: {cosdir1_e2_c} grados')\n",
    "cosdir1_e3_c = np.degrees(np.arccos(c[2]/np.linalg.norm(c)))\n",
    "print(f'el angulo #3 del coseno director de c con e3 es: {cosdir1_e3_c} grados')\n",
    "print('\\n')\n",
    "\n",
    "#Cosenos directores del vector d\n",
    "cosdir1_e1_d = np.degrees(np.arccos(d[0]/np.linalg.norm(d)))\n",
    "print(f'el angulo #1 del coseno director de d con e1 es: {cosdir1_e1_d} grados')\n",
    "cosdir1_e2_d = np.degrees(np.arccos(d[1]/np.linalg.norm(d)))\n",
    "print(f'el angulo #2 del coseno director de d con e2 es: {cosdir1_e2_d} grados')\n",
    "cosdir1_e3_d = np.degrees(np.arccos(d[2]/np.linalg.norm(d)))\n",
    "print(f'el angulo #3 del coseno director de d con e3 es: {cosdir1_e3_d} grados')\n",
    "print('\\n')"
   ]
  },
  {
   "cell_type": "markdown",
   "id": "8cd9f41e",
   "metadata": {},
   "source": [
    "## c) Magnitud de los vectores $\\vec{a}$, $\\vec{b}$, $\\vec{c}$, $\\vec{d}$  "
   ]
  },
  {
   "cell_type": "code",
   "execution_count": 34,
   "id": "1713468b",
   "metadata": {},
   "outputs": [
    {
     "name": "stdout",
     "output_type": "stream",
     "text": [
      "Norma de a 3.7416573867739413\n",
      "Norma de b 8.774964387392123\n",
      "Norma de c 3.7416573867739413\n",
      "Norma de d 8.774964387392123\n"
     ]
    }
   ],
   "source": [
    "norm_a = np.linalg.norm(a)\n",
    "print(f'Norma de a {norm_a}')\n",
    "norm_b = np.linalg.norm(b)\n",
    "print(f'Norma de b {norm_b}')\n",
    "norm_c = np.linalg.norm(c)\n",
    "print(f'Norma de c {norm_c}')\n",
    "norm_d = np.linalg.norm(d)\n",
    "print(f'Norma de d {norm_d}')"
   ]
  },
  {
   "cell_type": "markdown",
   "id": "d24c6c03",
   "metadata": {},
   "source": [
    "## d) Angulo entre los vectores $\\vec{a}$ y $\\vec{b}$  y entre  $\\vec{c}$ y $\\vec{d}$  "
   ]
  },
  {
   "cell_type": "code",
   "execution_count": 45,
   "id": "0335f9d1",
   "metadata": {},
   "outputs": [
    {
     "name": "stdout",
     "output_type": "stream",
     "text": [
      "el angulo entre a y b es: 12.933154491899135 grados\n",
      "el angulo entre c y d es: 12.933154491899135 grados\n"
     ]
    }
   ],
   "source": [
    "theta1 = np.degrees(np.arccos(np.dot(a,b)/((np.linalg.norm(a))*(np.linalg.norm(b)))))\n",
    "print(f'el angulo entre a y b es: {theta1} grados')\n",
    "\n",
    "theta2 = np.degrees(np.arccos(np.dot(c,d)/((np.linalg.norm(c))*(np.linalg.norm(d)))))\n",
    "print(f'el angulo entre c y d es: {theta2} grados')\n"
   ]
  },
  {
   "cell_type": "markdown",
   "id": "c42372cb",
   "metadata": {},
   "source": [
    "## e) Proyeccion entre los vectores $\\vec{a}$ y $\\vec{b}$  "
   ]
  },
  {
   "cell_type": "code",
   "execution_count": 47,
   "id": "e4c61c1b",
   "metadata": {},
   "outputs": [
    {
     "data": {
      "text/plain": [
       "array([0.41558442, 0.83116883, 1.24675325])"
      ]
     },
     "execution_count": 47,
     "metadata": {},
     "output_type": "execute_result"
    }
   ],
   "source": [
    "Proy_a_b = (np.dot(a,b)*(a)) / (np.linalg.norm(b)**2)\n",
    "Proy_a_b"
   ]
  },
  {
   "cell_type": "markdown",
   "id": "11929540",
   "metadata": {},
   "source": [
    "## f) ¿Son los vectores $\\vec{a}$  ,  $\\vec{b}$  ,  $\\vec{c}$  ,  $\\vec{d}$  coplanares?"
   ]
  },
  {
   "cell_type": "markdown",
   "id": "75eeb812",
   "metadata": {},
   "source": [
    "#### Primero tenemos que formar 3 vectores apartir de el vector a"
   ]
  },
  {
   "cell_type": "code",
   "execution_count": 49,
   "id": "442599ca",
   "metadata": {},
   "outputs": [
    {
     "name": "stdout",
     "output_type": "stream",
     "text": [
      "x: [3 3 3]\n",
      "x: [ 2  0 -2]\n",
      "x: [5 3 1]\n"
     ]
    }
   ],
   "source": [
    "x = b - a\n",
    "y = c - a\n",
    "z = d - a\n",
    "\n",
    "print(f'x: {x}')\n",
    "print(f'x: {y}')\n",
    "print(f'x: {z}')\n"
   ]
  },
  {
   "cell_type": "markdown",
   "id": "a07fd5ee",
   "metadata": {},
   "source": [
    "#### Para determinar si estos son coplanares se puede sacando el determinante de estos"
   ]
  },
  {
   "cell_type": "code",
   "execution_count": 63,
   "id": "e6e0b073",
   "metadata": {},
   "outputs": [
    {
     "name": "stdout",
     "output_type": "stream",
     "text": [
      "[[ 3  3  3]\n",
      " [ 2  0 -2]\n",
      " [ 5  3  1]]\n",
      "Con un determinante = 0\n"
     ]
    }
   ],
   "source": [
    "sis = np.array([x,y,z])\n",
    "print(sis)\n",
    "det =np.linalg.det(sis)\n",
    "print(f'Con un determinante = {int(det)}')"
   ]
  },
  {
   "cell_type": "markdown",
   "id": "8c940ec7",
   "metadata": {},
   "source": [
    "## g) Encuentre ($\\vec{a}$  +  $\\vec{b}$)  *  ($\\vec{c}$  +  $\\vec{d}$) "
   ]
  },
  {
   "cell_type": "code",
   "execution_count": 64,
   "id": "c5600722",
   "metadata": {},
   "outputs": [
    {
     "data": {
      "text/plain": [
       "256"
      ]
     },
     "execution_count": 64,
     "metadata": {},
     "output_type": "execute_result"
    }
   ],
   "source": [
    "c  = (a + b) \n",
    "c2 = (c + d)\n",
    "res = np.dot(c,c2)\n",
    "res"
   ]
  },
  {
   "cell_type": "markdown",
   "id": "7071ac0c",
   "metadata": {},
   "source": [
    "## h) Encuentre los productos ($\\vec{a}$  x  $\\vec{b}$)  ,  ($\\vec{b}$  x  $\\vec{c}$)  ,  ($\\vec{c}$  x  $\\vec{d}$) y los angulos que forman con el vector  $\\vec{d}$"
   ]
  },
  {
   "cell_type": "code",
   "execution_count": 68,
   "id": "f0c4c869",
   "metadata": {},
   "outputs": [
    {
     "name": "stdout",
     "output_type": "stream",
     "text": [
      "[-3  6 -3]\n",
      "90.0\n",
      "[ 3 -6  3]\n",
      "90.0\n",
      "[-17  34 -17]\n",
      "90.0\n"
     ]
    }
   ],
   "source": [
    "# c1 = a x b y su angulo con d\n",
    "c1 = np.cross(a,b)\n",
    "c1_angulo = np.degrees(np.arccos(np.dot(c1,d)/((np.linalg.norm(c1))*(np.linalg.norm(d)))))\n",
    "print(c1)\n",
    "print(c1_angulo)\n",
    "# c2 = b x c y su angulo con d\n",
    "c2 = np.cross(b,a)\n",
    "c2_angulo = np.degrees(np.arccos(np.dot(c2,d)/((np.linalg.norm(c2))*(np.linalg.norm(d)))))\n",
    "print(c2)\n",
    "print(c2_angulo)\n",
    "# c2 = c x d y su angulo con d\n",
    "c3 = np.cross(c,d)\n",
    "c3_angulo = np.degrees(np.arccos(np.dot(c3,d)/((np.linalg.norm(c3))*(np.linalg.norm(d)))))\n",
    "print(c3)\n",
    "print(c3_angulo)"
   ]
  },
  {
   "cell_type": "markdown",
   "id": "448bd3f9",
   "metadata": {},
   "source": [
    "## i) Encuentre  $\\vec{c}$  *  ($\\vec{a}$  x  $\\vec{b}$)"
   ]
  },
  {
   "cell_type": "code",
   "execution_count": 69,
   "id": "c1e8ae27",
   "metadata": {},
   "outputs": [
    {
     "data": {
      "text/plain": [
       "0"
      ]
     },
     "execution_count": 69,
     "metadata": {},
     "output_type": "execute_result"
    }
   ],
   "source": [
    "res = np.dot(c,np.cross(a,b))\n",
    "res"
   ]
  },
  {
   "cell_type": "code",
   "execution_count": null,
   "id": "1c370448",
   "metadata": {},
   "outputs": [],
   "source": []
  }
 ],
 "metadata": {
  "kernelspec": {
   "display_name": "Python 3 (ipykernel)",
   "language": "python",
   "name": "python3"
  },
  "language_info": {
   "codemirror_mode": {
    "name": "ipython",
    "version": 3
   },
   "file_extension": ".py",
   "mimetype": "text/x-python",
   "name": "python",
   "nbconvert_exporter": "python",
   "pygments_lexer": "ipython3",
   "version": "3.9.13"
  }
 },
 "nbformat": 4,
 "nbformat_minor": 5
}
